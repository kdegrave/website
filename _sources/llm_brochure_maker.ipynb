{
 "cells": [
  {
   "cell_type": "markdown",
   "id": "7389cb2b-b1af-472e-aff6-5593d507a016",
   "metadata": {},
   "source": [
    "# Creating Brochures with LLMs\n",
    "\n",
    "In this tutorial, we will explore how Python and Large Language Models (LLMs) can be used to transform website content into a polished company brochure. With LLMs like OpenAI's GPT-4, you can automate brochure creation by combining webpage parsing, prompt engineering, and content generation. Let's dive in!\n",
    "\n",
    "We begin by importing the necessary libraries. These tools will handle everything from HTML parsing to interacting with the OpenAI API."
   ]
  },
  {
   "cell_type": "code",
   "execution_count": 1,
   "id": "3edfc80e-4e26-45f6-9714-654025f51aa1",
   "metadata": {},
   "outputs": [],
   "source": [
    "from IPython.display import Markdown, display\n",
    "from bs4 import BeautifulSoup\n",
    "from dotenv import load_dotenv\n",
    "from openai import OpenAI\n",
    "import requests\n",
    "import json\n",
    "import os"
   ]
  },
  {
   "cell_type": "markdown",
   "id": "e6731da0-bc07-435e-ace2-488441ea4fa8",
   "metadata": {},
   "source": [
    "Here, we:\n",
    "\n",
    "* Use BeautifulSoup for HTML parsing.\n",
    "* Use dotenv to securely load environment variables like the OpenAI API key.\n",
    "* Import OpenAI's Python library to interact with GPT-4.\n",
    "\n",
    "To securely use the OpenAI API, we store our key in an .env file and load it into our script."
   ]
  },
  {
   "cell_type": "code",
   "execution_count": 2,
   "id": "aca3bd38-82dc-4125-95d8-9ff3a329ff98",
   "metadata": {},
   "outputs": [],
   "source": [
    "load_dotenv()\n",
    "\n",
    "api_key = os.getenv('OPENAI_API_KEY')"
   ]
  },
  {
   "cell_type": "markdown",
   "id": "79d3c1b0-af11-4103-9077-f4e04fac8653",
   "metadata": {},
   "source": [
    "This step ensures sensitive credentials are not exposed directly in the code.\n",
    "\n",
    "Next, we instantiate the OpenAI client to make API calls later."
   ]
  },
  {
   "cell_type": "code",
   "execution_count": 4,
   "id": "97e75bf2-cddb-43e7-921b-818377456a92",
   "metadata": {},
   "outputs": [],
   "source": [
    "openai = OpenAI()"
   ]
  },
  {
   "cell_type": "markdown",
   "id": "94e90277-05ad-4a6a-8f9c-736f35792b1d",
   "metadata": {},
   "source": [
    "We define a Website class to scrape and clean webpage data. This class extracts titles, main text, and hyperlinks from a given URL."
   ]
  },
  {
   "cell_type": "code",
   "execution_count": 5,
   "id": "787e0d89-a000-48c4-8767-78eef10299a3",
   "metadata": {},
   "outputs": [],
   "source": [
    "class Website:\n",
    "\n",
    "    def __init__(self, url):\n",
    "        self.url = url\n",
    "\n",
    "        data = requests.get(self.url).text\n",
    "\n",
    "        soup = BeautifulSoup(data, 'html.parser')\n",
    "\n",
    "        self.title = soup.title.string if soup.title else 'No title found.'\n",
    "\n",
    "        if soup.body:\n",
    "            for irrelevant in soup.body(['script', 'style', 'img', 'input']):\n",
    "                irrelevant.decompose()\n",
    "\n",
    "            text = soup.body.get_text(separator='\\n', strip=True)\n",
    "\n",
    "            self.text = '\\n'.join([i for i in text.split('\\n') if len(i.split()) >= 3])\n",
    "        else:\n",
    "            self.text = ''\n",
    "\n",
    "        links = [link.get('href') for link in soup.find_all('a')]\n",
    "\n",
    "        self.links = [link for link in links if link]\n",
    "\n",
    "    def get_contents(self):\n",
    "        return f\"Webpage Title:\\n{self.title}\\n\\nWebpage Contents:\\n{self.text}\\n\\n\""
   ]
  },
  {
   "cell_type": "markdown",
   "id": "a66d23ee-b6a0-4e63-ab00-18732b4d060b",
   "metadata": {},
   "source": [
    "This class does the following:\n",
    "\n",
    "* Fetches the HTML content of the page.\n",
    "* Removes unnecessary elements like scripts and styles.\n",
    "* Extracts meaningful text and hyperlinks.\n",
    "\n",
    "We now use the Website class to parse a webpage and print the content."
   ]
  },
  {
   "cell_type": "code",
   "execution_count": 7,
   "id": "8a132d57-83b2-4bae-a931-77c52bcf10ef",
   "metadata": {},
   "outputs": [],
   "source": [
    "url = 'https://www.anthropic.com/'"
   ]
  },
  {
   "cell_type": "code",
   "execution_count": 8,
   "id": "9192ecee-5a28-4e70-be9e-39ce653e9ea6",
   "metadata": {},
   "outputs": [],
   "source": [
    "website = Website(url)"
   ]
  },
  {
   "cell_type": "code",
   "execution_count": 11,
   "id": "faf3f837-8870-4586-97a3-5495f3233aca",
   "metadata": {},
   "outputs": [
    {
     "name": "stdout",
     "output_type": "stream",
     "text": [
      "Webpage Title:\n",
      "Home \\ Anthropic\n",
      "\n",
      "Webpage Contents:\n",
      "that put safety at the frontier\n",
      "Meet Claude 3.5 Sonnet\n",
      "Claude 3.5 Sonnet, our most intelligent AI model, is now available.\n",
      "Talk to Claude\n",
      "Build with Claude\n",
      "Start using Claude to drive efficiency and create new revenue streams.\n",
      "Introducing computer use, a new Claude 3.5 Sonnet, and Claude 3.5 Haiku\n",
      "Oct 22, 2024\n",
      "Claude for Enterprise\n",
      "Sep 4, 2024\n",
      "Constitutional AI: Harmlessness from AI Feedback\n",
      "Dec 15, 2022\n",
      "Core Views on AI Safety: When, Why, What, and How\n",
      "Mar 8, 2023\n",
      "Work with Anthropic\n",
      "Anthropic is an AI safety and research company based in San Francisco. Our interdisciplinary team has experience across ML, physics, policy, and product. Together, we generate research and create reliable, beneficial AI systems.\n",
      "See open roles\n",
      "Terms of Service – Consumer\n",
      "Terms of Service – Commercial\n",
      "Responsible Disclosure Policy\n",
      "© 2024 Anthropic PBC\n",
      "\n",
      "\n"
     ]
    }
   ],
   "source": [
    "print(website.get_contents())"
   ]
  },
  {
   "cell_type": "markdown",
   "id": "653b0a75-77e8-4dde-8275-d74a88bf6f10",
   "metadata": {},
   "source": [
    "Next, we identify links relevant to creating the brochure. For example, \"About,\" \"Careers,\" and \"Products\" pages are usually essential. This prompt defines how the AI will identify and categorize relevant links for the brochure."
   ]
  },
  {
   "cell_type": "code",
   "execution_count": 13,
   "id": "0a1dabec-67df-460a-b469-b83451d73a6c",
   "metadata": {},
   "outputs": [],
   "source": [
    "link_system_prompt = 'You are provided with a list of links found on a webpage. \\\n",
    "You are able to decide which of the links would be most relevant to include in a brochure about the company, \\\n",
    "such as links to an About page, or a Company page, or Careers/Jobs pages. You should respond in JSON as in this example:'\n",
    "\n",
    "link_system_prompt += \"\"\"\n",
    "{\n",
    "    \"links\": [\n",
    "        {\"type\": \"about page\", \"url\": \"https://full.url/goes/here/about\"},\n",
    "        {\"type\": \"careers page\": \"url\": \"https://another.full.url/careers\"}\n",
    "    ]\n",
    "}\n",
    "\"\"\""
   ]
  },
  {
   "cell_type": "code",
   "execution_count": 14,
   "id": "b1565746-c074-48c5-b448-2c99a93369cf",
   "metadata": {},
   "outputs": [
    {
     "name": "stdout",
     "output_type": "stream",
     "text": [
      "You are provided with a list of links found on a webpage. You are able to decide which of the links would be most relevant to include in a brochure about the company, such as links to an About page, or a Company page, or Careers/Jobs pages. You should respond in JSON as in this example:\n",
      "{\n",
      "    \"links\": [\n",
      "        {\"type\": \"about page\", \"url\": \"https://full.url/goes/here/about\"},\n",
      "        {\"type\": \"careers page\": \"url\": \"https://another.full.url/careers\"}\n",
      "    ]\n",
      "}\n",
      "\n"
     ]
    }
   ],
   "source": [
    "print(link_system_prompt)"
   ]
  },
  {
   "cell_type": "markdown",
   "id": "6d8646ce-262e-44c2-be14-36bafc194d05",
   "metadata": {},
   "source": [
    "We dynamically include the links retrieved from the website in a user prompt. This creates a complete user prompt that the AI can analyze."
   ]
  },
  {
   "cell_type": "code",
   "execution_count": 296,
   "id": "f76f90e1-ce25-4042-bc96-e95558a88611",
   "metadata": {},
   "outputs": [],
   "source": [
    "link_user_prompt = f\"Here is the list of links on the website of {website.url}. \\\n",
    "Please decide which of these are relevant web links for a brochure about the company. \\\n",
    "Respond with the full https URL in JSON format. Do not include Terms of Service, Privacy, or email links. \\\n",
    "Note that some of these might be relative links:\\n\\n\"\n",
    "\n",
    "link_user_prompt += '\\n'.join(website.links)"
   ]
  },
  {
   "cell_type": "code",
   "execution_count": 297,
   "id": "86022b60-d862-40c5-a1dd-7b6149fc6987",
   "metadata": {},
   "outputs": [
    {
     "name": "stdout",
     "output_type": "stream",
     "text": [
      "Here is the list of links on the website of https://www.anthropic.com/. Please decide which of these are relevant web links for a brochure about the company. Respond with the full https URL in JSON format. Do not include Terms of Service, Privacy, or email links. Note that some of these might be relative links:\n",
      "\n",
      "/\n",
      "/claude\n",
      "/team\n",
      "/enterprise\n",
      "/api\n",
      "/pricing\n",
      "/research\n",
      "/company\n",
      "/careers\n",
      "/news\n",
      "https://www.anthropic.com/research#entry:8@1:url\n",
      "https://www.anthropic.com/claude\n",
      "https://claude.ai/\n",
      "/api\n",
      "/news/3-5-models-and-computer-use\n",
      "/claude/sonnet\n",
      "/claude/haiku\n",
      "/news/claude-for-enterprise\n",
      "/research/constitutional-ai-harmlessness-from-ai-feedback\n",
      "/news/core-views-on-ai-safety\n",
      "/jobs\n",
      "/\n",
      "/claude\n",
      "/api\n",
      "/team\n",
      "/pricing\n",
      "/research\n",
      "/company\n",
      "/customers\n",
      "/news\n",
      "/careers\n",
      "mailto:press@anthropic.com\n",
      "https://support.anthropic.com/\n",
      "https://status.anthropic.com/\n",
      "/supported-countries\n",
      "https://twitter.com/AnthropicAI\n",
      "https://www.linkedin.com/company/anthropicresearch\n",
      "https://www.youtube.com/@anthropic-ai\n",
      "/legal/consumer-terms\n",
      "/legal/commercial-terms\n",
      "/legal/privacy\n",
      "/legal/aup\n",
      "/responsible-disclosure-policy\n",
      "https://trust.anthropic.com/\n"
     ]
    }
   ],
   "source": [
    "print(link_user_prompt)"
   ]
  },
  {
   "cell_type": "markdown",
   "id": "4e1fce59-0c31-4ee1-a1c1-9f8f94ec40c9",
   "metadata": {},
   "source": [
    "We send the prompts to the LLM to generate content based on the website information. This step retrieves the AI's filtered list of links categorized as \"About,\" \"Careers,\" etc."
   ]
  },
  {
   "cell_type": "code",
   "execution_count": 152,
   "id": "8ef4597b-3223-4ea4-987f-f190311fcc8f",
   "metadata": {},
   "outputs": [],
   "source": [
    "response = openai.chat.completions.create(\n",
    "    model='gpt-4o-mini',\n",
    "    messages=[\n",
    "        {'role': 'system', 'content': link_system_prompt},\n",
    "        {'role': 'user', 'content': link_user_prompt}\n",
    "    ],\n",
    "    response_format={'type': 'json_object'}\n",
    ")\n",
    "\n",
    "result = response.choices[0].message.content"
   ]
  },
  {
   "cell_type": "code",
   "execution_count": 154,
   "id": "a6866823-eb1a-4402-91d9-15948d6ba6a9",
   "metadata": {},
   "outputs": [
    {
     "name": "stdout",
     "output_type": "stream",
     "text": [
      "{\n",
      "    \"links\": [\n",
      "        {\"type\": \"about page\", \"url\": \"https://www.anthropic.com/company\"},\n",
      "        {\"type\": \"careers page\", \"url\": \"https://www.anthropic.com/careers\"},\n",
      "        {\"type\": \"team page\", \"url\": \"https://www.anthropic.com/team\"},\n",
      "        {\"type\": \"research page\", \"url\": \"https://www.anthropic.com/research\"},\n",
      "        {\"type\": \"enterprise page\", \"url\": \"https://www.anthropic.com/enterprise\"},\n",
      "        {\"type\": \"api page\", \"url\": \"https://www.anthropic.com/api\"},\n",
      "        {\"type\": \"pricing page\", \"url\": \"https://www.anthropic.com/pricing\"},\n",
      "        {\"type\": \"news page\", \"url\": \"https://www.anthropic.com/news\"}\n",
      "    ]\n",
      "}\n"
     ]
    }
   ],
   "source": [
    "print(result)"
   ]
  },
  {
   "cell_type": "markdown",
   "id": "8e1d7708-fe52-4f3f-8653-9cddcbd93e33",
   "metadata": {},
   "source": [
    "Using the links and content from the website, we create a final prompt for the AI to generate the brochure. We append the extracted content to this prompt and send it to the LLM."
   ]
  },
  {
   "cell_type": "code",
   "execution_count": 298,
   "id": "a6aaea9c-5ad0-4c39-ba9c-a563762c356f",
   "metadata": {},
   "outputs": [],
   "source": [
    "brochure_system_prompt = 'You are an assistant that analyzes the contents of several relevant pages from a company website \\\n",
    "and creates a short brochure about the company for prospective customers, investors, and recruits. Respond in markdown. \\\n",
    "Include details about company culture, customers, and careers/jobs if you have the information.'"
   ]
  },
  {
   "cell_type": "code",
   "execution_count": 299,
   "id": "3a0122c2-a6a8-45f5-b244-a2e21db09c6b",
   "metadata": {},
   "outputs": [],
   "source": [
    "company_name = 'Anthropic'\n",
    "\n",
    "brochure_user_prompt = f\"You are looking at website information for a company called {company_name}. \\\n",
    "Here are the contents of the company landing page and other relevant pages. \\\n",
    "Use this information to build a short brochure for the company in markdown.\""
   ]
  },
  {
   "cell_type": "code",
   "execution_count": 300,
   "id": "475a65df-4329-49da-806f-954e3495c555",
   "metadata": {},
   "outputs": [],
   "source": [
    "result_json = json.loads(result)\n",
    "\n",
    "brochure_user_prompt += f\"\\n\\nLANDING PAGE:\\n{Website(url).get_contents()}\"\n",
    "\n",
    "for link in result_json['links']:\n",
    "    brochure_user_prompt += f\"\\n{link['type'].upper()}:\\n{Website(link['url']).get_contents()}\"\n",
    "\n",
    "brochure_user_prompt = brochure_user_prompt[:20000]"
   ]
  },
  {
   "cell_type": "markdown",
   "id": "05390db6-244d-4f5f-a245-45d0df25c645",
   "metadata": {},
   "source": [
    "The AI generates a polished brochure in markdown format, ready for review:"
   ]
  },
  {
   "cell_type": "code",
   "execution_count": 306,
   "id": "f965bd18-eb11-4344-86c6-85f85dc6f723",
   "metadata": {},
   "outputs": [],
   "source": [
    "response = openai.chat.completions.create(\n",
    "    model='gpt-4o-mini',\n",
    "    messages=[\n",
    "        {'role': 'system', 'content': brochure_system_prompt},\n",
    "        {'role': 'user', 'content': brochure_user_prompt}\n",
    "    ]\n",
    ")\n",
    "\n",
    "result = response.choices[0].message.content"
   ]
  },
  {
   "cell_type": "code",
   "execution_count": 307,
   "id": "caf547e7-3aec-4554-8224-6c2ef9002f19",
   "metadata": {},
   "outputs": [
    {
     "data": {
      "text/markdown": [
       "# Anthropic: Advancing AI Safety for a Better Future\n",
       "\n",
       "## Who We Are\n",
       "\n",
       "Anthropic is a leading AI safety and research company located in San Francisco. We are on a mission to ensure that transformative AI technology benefits humanity. Our aim is to create reliable, interpretable, and steerable AI systems, leveraging interdisciplinary expertise from fields such as machine learning, physics, policy, and product development.\n",
       "\n",
       "### Our Products\n",
       "\n",
       "* **Claude 3.5 Sonnet & Haiku**: Advanced AI models designed to drive efficiency and revenue streams for businesses and organizations.\n",
       "* **Claude for Enterprise**: Tailored solutions that securely integrate AI into company workflows, leveraging internal knowledge for enhanced collaboration and output.\n",
       "\n",
       "## Our Culture\n",
       "\n",
       "At Anthropic, we prioritize a high-trust work environment that fosters collaboration and intellectual openness. Our team is diverse and passionate, comprising researchers, engineers, policy experts, and business leaders who share a commitment to AI safety. We value honesty, emotional maturity, and encourage contributions across various projects. \n",
       "\n",
       "### Core Principles\n",
       "\n",
       "- **Collaboration**: We believe in teamwork across all levels, with everyone contributing to our shared mission.\n",
       "- **Pragmatism**: We celebrate simple solutions and value empirical approaches that yield actionable insights.\n",
       "- **Continuous Learning**: We seek to share our findings with the broader community and learn from external collaborators.\n",
       "\n",
       "## Our Customers\n",
       "\n",
       "We cater to a wide range of clients, including businesses, nonprofits, and civil society groups seeking to adopt safe AI solutions. With Claude, teams can enhance productivity, generate insights rapidly, and collaborate seamlessly. \n",
       "\n",
       "## Careers at Anthropic\n",
       "\n",
       "We are always looking for talented individuals eager to contribute to the field of AI. We offer a dynamic work environment and a comprehensive benefits package that includes:\n",
       "\n",
       "- **Health & Wellness**: Competitive health, dental, and vision insurance, mental health support, and inclusive fertility benefits.\n",
       "- **Compensation & Support**: Competitive salary, equity packages, generous parental leave, home office stipends, and continuous growth through education stipends.\n",
       "- **A Focus on Diversity**: We welcome varied experiences and backgrounds, aiming to create a truly inclusive work environment.\n",
       "\n",
       "### Join Us!\n",
       "\n",
       "Explore open roles on our [Careers Page](#) and be a part of a mission-driven organization making a tangible impact in the AI landscape.\n",
       "\n",
       "---\n",
       "\n",
       "For more detailed insights about our products, team, or research initiatives, feel free to visit our website or contact us directly. Join Anthropic as we strive for a future where AI technologies are safely integrated into society and enhance human capabilities."
      ],
      "text/plain": [
       "<IPython.core.display.Markdown object>"
      ]
     },
     "metadata": {},
     "output_type": "display_data"
    }
   ],
   "source": [
    "display(Markdown(result))"
   ]
  },
  {
   "cell_type": "markdown",
   "id": "99c6df6c-2bd3-4d1c-af98-fac746094f9f",
   "metadata": {},
   "source": [
    "This workflow demonstrates how to automate brochure creation using LLMs. By leveraging webpage parsing, prompt engineering, and AI's generative capabilities, businesses can efficiently create professional marketing materials tailored to their needs. Try this approach to save time and enhance your content creation process!"
   ]
  }
 ],
 "metadata": {
  "kernelspec": {
   "display_name": "Python 3 (ipykernel)",
   "language": "python",
   "name": "python3"
  },
  "language_info": {
   "codemirror_mode": {
    "name": "ipython",
    "version": 3
   },
   "file_extension": ".py",
   "mimetype": "text/x-python",
   "name": "python",
   "nbconvert_exporter": "python",
   "pygments_lexer": "ipython3",
   "version": "3.12.3"
  }
 },
 "nbformat": 4,
 "nbformat_minor": 5
}
